{
 "cells": [
  {
   "cell_type": "code",
   "execution_count": 1,
   "metadata": {},
   "outputs": [
    {
     "name": "stderr",
     "output_type": "stream",
     "text": [
      "/var/folders/2t/gftqwtk579jcc7_0379k_f900000gn/T/ipykernel_13991/3445245835.py:15: LangChainDeprecationWarning: The class `TavilySearchResults` was deprecated in LangChain 0.3.25 and will be removed in 1.0. An updated version of the class exists in the :class:`~langchain-tavily package and should be used instead. To use it run `pip install -U :class:`~langchain-tavily` and import as `from :class:`~langchain_tavily import TavilySearch``.\n",
      "  search_tool = TavilySearchResults(max_results=2)\n"
     ]
    }
   ],
   "source": [
    "from typing import TypedDict, Annotated\n",
    "from langgraph.graph import add_messages, StateGraph, END\n",
    "from langchain_groq import ChatGroq\n",
    "from langchain_openai import ChatOpenAI\n",
    "from langchain_core.messages import AIMessage, HumanMessage\n",
    "from dotenv import load_dotenv\n",
    "from langchain_community.tools.tavily_search import TavilySearchResults\n",
    "from langgraph.prebuilt import ToolNode\n",
    "\n",
    "load_dotenv()\n",
    "\n",
    "class ChildState(TypedDict):\n",
    "    messages: Annotated[list, add_messages]\n",
    "\n",
    "search_tool = TavilySearchResults(max_results=2)\n",
    "tools = [search_tool]\n",
    "\n",
    "# llm = ChatGroq(model=\"llama-3.1-8b-instant\")\n",
    "llm = ChatOpenAI(model=\"gpt-4o-mini\")\n",
    "\n",
    "llm_with_tools = llm.bind_tools(tools=tools)\n",
    "\n",
    "def agent(state: ChildState):\n",
    "    return {\n",
    "        \"messages\": [llm_with_tools.invoke(state[\"messages\"])], \n",
    "    }\n",
    "\n",
    "def tools_router(state: ChildState):\n",
    "    last_message = state[\"messages\"][-1]\n",
    "\n",
    "    if(hasattr(last_message, \"tool_calls\") and len(last_message.tool_calls) > 0):\n",
    "        return \"tool_node\"\n",
    "    else: \n",
    "        return END\n",
    "    \n",
    "\n",
    "tool_node = ToolNode(tools=tools)\n",
    "\n",
    "subgraph = StateGraph(ChildState)\n",
    "\n",
    "subgraph.add_node(\"agent\", agent)\n",
    "subgraph.add_node(\"tool_node\", tool_node)\n",
    "subgraph.set_entry_point(\"agent\")\n",
    "\n",
    "subgraph.add_conditional_edges(\"agent\", tools_router)\n",
    "subgraph.add_edge(\"tool_node\", \"agent\")\n",
    "\n",
    "search_app = subgraph.compile()"
   ]
  },
  {
   "cell_type": "code",
   "execution_count": 2,
   "metadata": {},
   "outputs": [
    {
     "data": {
      "image/png": "[encoded data removed]",
      "text/plain": [
       "<IPython.core.display.Image object>"
      ]
     },
     "metadata": {},
     "output_type": "display_data"
    }
   ],
   "source": [
    "from IPython.display import Image, display\n",
    "from langchain_core.runnables.graph import MermaidDrawMethod\n",
    "\n",
    "display(\n",
    "    Image(\n",
    "        search_app.get_graph().draw_mermaid_png(\n",
    "            draw_method=MermaidDrawMethod.API\n",
    "        )\n",
    "    )\n",
    ")"
   ]
  },
  {
   "cell_type": "code",
   "execution_count": 22,
   "metadata": {},
   "outputs": [
    {
     "data": {
      "text/plain": [
       "{'messages': [HumanMessage(content='How is the weather in Chennai?', additional_kwargs={}, response_metadata={}, id='dd7ca127-9320-4153-891a-e46b7c70ecab'),\n",
       "  AIMessage(content='', additional_kwargs={'tool_calls': [{'id': 'call_7zex', 'function': {'arguments': '{\"query\": \"Chennai weather today\"}', 'name': 'tavily_search_results_json'}, 'type': 'function'}]}, response_metadata={'token_usage': {'completion_tokens': 21, 'prompt_tokens': 569, 'total_tokens': 590, 'completion_time': 0.028, 'prompt_time': 0.037395667, 'queue_time': -0.064115767, 'total_time': 0.065395667}, 'model_name': 'llama-3.1-8b-instant', 'system_fingerprint': 'fp_f7bd09b454', 'finish_reason': 'tool_calls', 'logprobs': None}, id='run-db2b2ffb-8544-46c1-bbac-8727335b1b13-0', tool_calls=[{'name': 'tavily_search_results_json', 'args': {'query': 'Chennai weather today'}, 'id': 'call_7zex', 'type': 'tool_call'}], usage_metadata={'input_tokens': 569, 'output_tokens': 21, 'total_tokens': 590}),\n",
       "  ToolMessage(content='[{\"url\": \"https://www.weatherapi.com/\", \"content\": \"{\\'location\\': {\\'name\\': \\'Chennai\\', \\'region\\': \\'Tamil Nadu\\', \\'country\\': \\'India\\', \\'lat\\': 13.0833, \\'lon\\': 80.2833, \\'tz_id\\': \\'Asia/Kolkata\\', \\'localtime_epoch\\': 1744094556, \\'localtime\\': \\'2025-04-08 12:12\\'}, \\'current\\': {\\'last_updated_epoch\\': 1744093800, \\'last_updated\\': \\'2025-04-08 12:00\\', \\'temp_c\\': 34.4, \\'temp_f\\': 93.9, \\'is_day\\': 1, \\'condition\\': {\\'text\\': \\'Mist\\', \\'icon\\': \\'//cdn.weatherapi.com/weather/64x64/day/143.png\\', \\'code\\': 1030}, \\'wind_mph\\': 10.3, \\'wind_kph\\': 16.6, \\'wind_degree\\': 75, \\'wind_dir\\': \\'ENE\\', \\'pressure_mb\\': 1010.0, \\'pressure_in\\': 29.83, \\'precip_mm\\': 0.0, \\'precip_in\\': 0.0, \\'humidity\\': 60, \\'cloud\\': 50, \\'feelslike_c\\': 43.0, \\'feelslike_f\\': 109.3, \\'windchill_c\\': 31.0, \\'windchill_f\\': 87.7, \\'heatindex_c\\': 34.8, \\'heatindex_f\\': 94.6, \\'dewpoint_c\\': 22.0, \\'dewpoint_f\\': 71.6, \\'vis_km\\': 5.0, \\'vis_miles\\': 3.0, \\'uv\\': 11.5, \\'gust_mph\\': 11.8, \\'gust_kph\\': 19.0}}\"}, {\"url\": \"https://en.climate-data.org/asia/india/tamil-nadu/chennai-1003222/t/april-4/\", \"content\": \"Are you planning a holiday with hopefully nice weather in Chennai in April 2025? ... 8. April, 29 °C | 85 °F, 34 °C | 94 °F, 26 °C | 78 °F, 29 °C | 85 °F, 5.1 mm\"}]', name='tavily_search_results_json', id='6e7ed007-fd69-48d7-8569-7bbaa4cb8569', tool_call_id='call_7zex', artifact={'query': 'Chennai weather today', 'follow_up_questions': None, 'answer': None, 'images': [], 'results': [{'title': 'Weather in Chennai', 'url': 'https://www.weatherapi.com/', 'content': \"{'location': {'name': 'Chennai', 'region': 'Tamil Nadu', 'country': 'India', 'lat': 13.0833, 'lon': 80.2833, 'tz_id': 'Asia/Kolkata', 'localtime_epoch': 1744094556, 'localtime': '2025-04-08 12:12'}, 'current': {'last_updated_epoch': 1744093800, 'last_updated': '2025-04-08 12:00', 'temp_c': 34.4, 'temp_f': 93.9, 'is_day': 1, 'condition': {'text': 'Mist', 'icon': '//cdn.weatherapi.com/weather/64x64/day/143.png', 'code': 1030}, 'wind_mph': 10.3, 'wind_kph': 16.6, 'wind_degree': 75, 'wind_dir': 'ENE', 'pressure_mb': 1010.0, 'pressure_in': 29.83, 'precip_mm': 0.0, 'precip_in': 0.0, 'humidity': 60, 'cloud': 50, 'feelslike_c': 43.0, 'feelslike_f': 109.3, 'windchill_c': 31.0, 'windchill_f': 87.7, 'heatindex_c': 34.8, 'heatindex_f': 94.6, 'dewpoint_c': 22.0, 'dewpoint_f': 71.6, 'vis_km': 5.0, 'vis_miles': 3.0, 'uv': 11.5, 'gust_mph': 11.8, 'gust_kph': 19.0}}\", 'score': 0.9547735, 'raw_content': None}, {'url': 'https://en.climate-data.org/asia/india/tamil-nadu/chennai-1003222/t/april-4/', 'title': 'Weather Chennai in April 2025: Temperature & Climate', 'content': 'Are you planning a holiday with hopefully nice weather in Chennai in April 2025? ... 8. April, 29 °C | 85 °F, 34 °C | 94 °F, 26 °C | 78 °F, 29 °C | 85 °F, 5.1 mm', 'score': 0.9437689, 'raw_content': None}], 'response_time': 1.07}),\n",
       "  AIMessage(content='', additional_kwargs={'tool_calls': [{'id': 'call_64c6', 'function': {'arguments': '{\"query\": \"Chennai weather today temperature\"}', 'name': 'tavily_search_results_json'}, 'type': 'function'}]}, response_metadata={'token_usage': {'completion_tokens': 45, 'prompt_tokens': 827, 'total_tokens': 872, 'completion_time': 0.06, 'prompt_time': 0.0803815, 'queue_time': 0.588685288, 'total_time': 0.1403815}, 'model_name': 'llama-3.1-8b-instant', 'system_fingerprint': 'fp_f7bd09b454', 'finish_reason': 'tool_calls', 'logprobs': None}, id='run-cbfbcd10-55a1-4eb3-a06e-9b26aa9e83bb-0', tool_calls=[{'name': 'tavily_search_results_json', 'args': {'query': 'Chennai weather today temperature'}, 'id': 'call_64c6', 'type': 'tool_call'}], usage_metadata={'input_tokens': 827, 'output_tokens': 45, 'total_tokens': 872}),\n",
       "  ToolMessage(content='[{\"url\": \"https://www.weatherapi.com/\", \"content\": \"{\\'location\\': {\\'name\\': \\'Chennai\\', \\'region\\': \\'Tamil Nadu\\', \\'country\\': \\'India\\', \\'lat\\': 13.0833, \\'lon\\': 80.2833, \\'tz_id\\': \\'Asia/Kolkata\\', \\'localtime_epoch\\': 1744095939, \\'localtime\\': \\'2025-04-08 12:35\\'}, \\'current\\': {\\'last_updated_epoch\\': 1744095600, \\'last_updated\\': \\'2025-04-08 12:30\\', \\'temp_c\\': 34.4, \\'temp_f\\': 93.9, \\'is_day\\': 1, \\'condition\\': {\\'text\\': \\'Mist\\', \\'icon\\': \\'//cdn.weatherapi.com/weather/64x64/day/143.png\\', \\'code\\': 1030}, \\'wind_mph\\': 10.3, \\'wind_kph\\': 16.6, \\'wind_degree\\': 75, \\'wind_dir\\': \\'ENE\\', \\'pressure_mb\\': 1010.0, \\'pressure_in\\': 29.83, \\'precip_mm\\': 0.0, \\'precip_in\\': 0.0, \\'humidity\\': 56, \\'cloud\\': 25, \\'feelslike_c\\': 43.0, \\'feelslike_f\\': 109.3, \\'windchill_c\\': 31.0, \\'windchill_f\\': 87.7, \\'heatindex_c\\': 34.8, \\'heatindex_f\\': 94.6, \\'dewpoint_c\\': 22.0, \\'dewpoint_f\\': 71.6, \\'vis_km\\': 5.0, \\'vis_miles\\': 3.0, \\'uv\\': 11.5, \\'gust_mph\\': 11.8, \\'gust_kph\\': 19.0}}\"}, {\"url\": \"https://en.climate-data.org/asia/india/tamil-nadu/chennai-1003222/t/april-4/\", \"content\": \"Are you planning a holiday with hopefully nice weather in Chennai in April 2025? ... 8. April, 29 °C | 85 °F, 34 °C | 94 °F, 26 °C | 78 °F, 29 °C | 85 °F, 5.1 mm\"}]', name='tavily_search_results_json', id='4de920cc-837e-427d-a60c-0e9217df494e', tool_call_id='call_64c6', artifact={'query': 'Chennai weather today temperature', 'follow_up_questions': None, 'answer': None, 'images': [], 'results': [{'title': 'Weather in Chennai', 'url': 'https://www.weatherapi.com/', 'content': \"{'location': {'name': 'Chennai', 'region': 'Tamil Nadu', 'country': 'India', 'lat': 13.0833, 'lon': 80.2833, 'tz_id': 'Asia/Kolkata', 'localtime_epoch': 1744095939, 'localtime': '2025-04-08 12:35'}, 'current': {'last_updated_epoch': 1744095600, 'last_updated': '2025-04-08 12:30', 'temp_c': 34.4, 'temp_f': 93.9, 'is_day': 1, 'condition': {'text': 'Mist', 'icon': '//cdn.weatherapi.com/weather/64x64/day/143.png', 'code': 1030}, 'wind_mph': 10.3, 'wind_kph': 16.6, 'wind_degree': 75, 'wind_dir': 'ENE', 'pressure_mb': 1010.0, 'pressure_in': 29.83, 'precip_mm': 0.0, 'precip_in': 0.0, 'humidity': 56, 'cloud': 25, 'feelslike_c': 43.0, 'feelslike_f': 109.3, 'windchill_c': 31.0, 'windchill_f': 87.7, 'heatindex_c': 34.8, 'heatindex_f': 94.6, 'dewpoint_c': 22.0, 'dewpoint_f': 71.6, 'vis_km': 5.0, 'vis_miles': 3.0, 'uv': 11.5, 'gust_mph': 11.8, 'gust_kph': 19.0}}\", 'score': 0.9719107, 'raw_content': None}, {'url': 'https://en.climate-data.org/asia/india/tamil-nadu/chennai-1003222/t/april-4/', 'title': 'Weather Chennai in April 2025: Temperature & Climate', 'content': 'Are you planning a holiday with hopefully nice weather in Chennai in April 2025? ... 8. April, 29 °C | 85 °F, 34 °C | 94 °F, 26 °C | 78 °F, 29 °C | 85 °F, 5.1 mm', 'score': 0.9437689, 'raw_content': None}], 'response_time': 1.76}),\n",
       "  AIMessage(content='The current weather in Chennai is misty with a temperature of 34.4°C (93.9°F).', additional_kwargs={}, response_metadata={'token_usage': {'completion_tokens': 24, 'prompt_tokens': 1370, 'total_tokens': 1394, 'completion_time': 0.032, 'prompt_time': 0.08582863, 'queue_time': 0.048007658999999994, 'total_time': 0.11782863}, 'model_name': 'llama-3.1-8b-instant', 'system_fingerprint': 'fp_f7bd09b454', 'finish_reason': 'stop', 'logprobs': None}, id='run-3fafd4bb-96f5-41c6-8ad3-8ab4cffe6459-0', usage_metadata={'input_tokens': 1370, 'output_tokens': 24, 'total_tokens': 1394})]}"
      ]
     },
     "execution_count": 22,
     "metadata": {},
     "output_type": "execute_result"
    }
   ],
   "source": [
    "search_app.invoke({\"messages\": [HumanMessage(content=\"How is the weather in Chennai?\")]})"
   ]
  },
  {
   "cell_type": "markdown",
   "metadata": {},
   "source": [
    "Case 1: Shared Schema (Direct Embedding)"
   ]
  },
  {
   "cell_type": "code",
   "execution_count": 23,
   "metadata": {},
   "outputs": [
    {
     "data": {
      "text/plain": [
       "{'messages': [HumanMessage(content='How is the weather in Chennai?', additional_kwargs={}, response_metadata={}, id='1aa7b147-b05e-4e6e-86fa-3fa8688a4931'),\n",
       "  AIMessage(content='', additional_kwargs={'tool_calls': [{'id': 'call_2gjz', 'function': {'arguments': '{\"query\": \"Chennai weather\"}', 'name': 'tavily_search_results_json'}, 'type': 'function'}]}, response_metadata={'token_usage': {'completion_tokens': 20, 'prompt_tokens': 285, 'total_tokens': 305, 'completion_time': 0.026666667, 'prompt_time': 0.014442599, 'queue_time': 0.938076742, 'total_time': 0.041109266}, 'model_name': 'llama-3.1-8b-instant', 'system_fingerprint': 'fp_f7bd09b454', 'finish_reason': 'tool_calls', 'logprobs': None}, id='run-d8830406-4c34-473d-97f2-6b63d2d0087d-0', tool_calls=[{'name': 'tavily_search_results_json', 'args': {'query': 'Chennai weather'}, 'id': 'call_2gjz', 'type': 'tool_call'}], usage_metadata={'input_tokens': 285, 'output_tokens': 20, 'total_tokens': 305}),\n",
       "  ToolMessage(content='[{\"url\": \"https://en.climate-data.org/asia/india/tamil-nadu/chennai-1003222/t/april-4/\", \"content\": \"Are you planning a holiday with hopefully nice weather in Chennai in April 2025? ... 8. April, 29 °C | 85 °F, 34 °C | 94 °F, 26 °C | 78 °F, 29 °C | 85 °F, 5.1 mm\"}, {\"url\": \"https://www.indiatoday.in/weather/chennai-weather-forecast-today\", \"content\": \"The minimum temperature in Chennai today is likely to hover around 28 degrees Celsius, while the maximum temperature might reach 32 degrees Celsius.\"}]', name='tavily_search_results_json', id='6d4b3bb6-9c3e-4c59-b878-0f7052069b14', tool_call_id='call_2gjz', artifact={'query': 'Chennai weather', 'follow_up_questions': None, 'answer': None, 'images': [], 'results': [{'url': 'https://en.climate-data.org/asia/india/tamil-nadu/chennai-1003222/t/april-4/', 'title': 'Weather Chennai in April 2025: Temperature & Climate', 'content': 'Are you planning a holiday with hopefully nice weather in Chennai in April 2025? ... 8. April, 29 °C | 85 °F, 34 °C | 94 °F, 26 °C | 78 °F, 29 °C | 85 °F, 5.1 mm', 'score': 0.9437689, 'raw_content': None}, {'url': 'https://www.indiatoday.in/weather/chennai-weather-forecast-today', 'title': 'Chennai Weather Today (Tuesday, Apr 08, 2025) - India Today', 'content': 'The minimum temperature in Chennai today is likely to hover around 28 degrees Celsius, while the maximum temperature might reach 32 degrees Celsius.', 'score': 0.9317675, 'raw_content': None}], 'response_time': 1.03}),\n",
       "  AIMessage(content=\"It appears that the current weather in Chennai is quite hot, with temperatures ranging from 28 to 32 degrees Celsius. However, it's worth noting that the weather can change rapidly, so it's always a good idea to check the latest forecasts before planning any outdoor activities.\", additional_kwargs={}, response_metadata={'token_usage': {'completion_tokens': 56, 'prompt_tokens': 474, 'total_tokens': 530, 'completion_time': 0.074666667, 'prompt_time': 0.023927598, 'queue_time': 0.094919531, 'total_time': 0.098594265}, 'model_name': 'llama-3.1-8b-instant', 'system_fingerprint': 'fp_f7bd09b454', 'finish_reason': 'stop', 'logprobs': None}, id='run-b13f643c-697d-49b1-8da2-ca987f668b30-0', usage_metadata={'input_tokens': 474, 'output_tokens': 56, 'total_tokens': 530})]}"
      ]
     },
     "execution_count": 23,
     "metadata": {},
     "output_type": "execute_result"
    }
   ],
   "source": [
    "from typing import TypedDict, Annotated\n",
    "from langgraph.graph import add_messages, StateGraph, START, END\n",
    "from langchain_core.messages import HumanMessage\n",
    "\n",
    "# Define parent graph with the same schema\n",
    "class ParentState(TypedDict):\n",
    "    messages: Annotated[list, add_messages]\n",
    "\n",
    "# Create parent graph\n",
    "parent_graph = StateGraph(ParentState)\n",
    "\n",
    "# Add the subgraph as a node\n",
    "parent_graph.add_node(\"search_agent\", search_app)\n",
    "\n",
    "# Connect the flow\n",
    "parent_graph.add_edge(START, \"search_agent\")\n",
    "parent_graph.add_edge(\"search_agent\", END)\n",
    "\n",
    "# Compile parent graph\n",
    "parent_app = parent_graph.compile()\n",
    "\n",
    "# Run the parent graph\n",
    "result = parent_app.invoke({\"messages\": [HumanMessage(content=\"How is the weather in Chennai?\")]})\n",
    "result"
   ]
  },
  {
   "cell_type": "markdown",
   "metadata": {},
   "source": [
    "Case 2: Different Schema (Invoke with Transformation)"
   ]
  },
  {
   "cell_type": "code",
   "execution_count": 25,
   "metadata": {},
   "outputs": [
    {
     "name": "stdout",
     "output_type": "stream",
     "text": [
      "{'query': 'How is the weather in Chennai?', 'response': 'In Chennai, the weather is expected to be warm and sunny in April 2025, with temperatures ranging from 28 to 32 degrees Celsius (82 to 90 degrees Fahrenheit).'}\n"
     ]
    }
   ],
   "source": [
    "from typing import TypedDict, Annotated, Dict\n",
    "from langgraph.graph import StateGraph, START, END\n",
    "from langchain_core.messages import HumanMessage\n",
    "\n",
    "# Define parent graph with different schema\n",
    "class QueryState(TypedDict):\n",
    "    query: str\n",
    "    response: str\n",
    "\n",
    "# Function to invoke subgraph\n",
    "def search_agent(state: QueryState) -> Dict:\n",
    "    # Transform from parent schema to subgraph schema\n",
    "    subgraph_input = {\n",
    "        \"messages\": [HumanMessage(content=state[\"query\"])]\n",
    "    }\n",
    "    \n",
    "    # Invoke the subgraph\n",
    "    subgraph_result = search_app.invoke(subgraph_input)\n",
    "    \n",
    "    # Transform response back to parent schema\n",
    "    assistant_message = subgraph_result[\"messages\"][-1]\n",
    "    return {\"response\": assistant_message.content}\n",
    "\n",
    "# Create parent graph\n",
    "parent_graph = StateGraph(QueryState)\n",
    "\n",
    "# Add transformation node that invokes subgraph\n",
    "parent_graph.add_node(\"search_agent\", search_agent)\n",
    "\n",
    "# Connect the flow\n",
    "parent_graph.add_edge(START, \"search_agent\")\n",
    "parent_graph.add_edge(\"search_agent\", END)\n",
    "\n",
    "# Compile parent graph\n",
    "parent_app = parent_graph.compile()\n",
    "\n",
    "# Run the parent graph\n",
    "result = parent_app.invoke({\"query\": \"How is the weather in Chennai?\", \"response\": \"\"})\n",
    "print(result)"
   ]
  }
 ],
 "metadata": {
  "kernelspec": {
   "display_name": "venv",
   "language": "python",
   "name": "python3"
  },
  "language_info": {
   "codemirror_mode": {
    "name": "ipython",
    "version": 3
   },
   "file_extension": ".py",
   "mimetype": "text/x-python",
   "name": "python",
   "nbconvert_exporter": "python",
   "pygments_lexer": "ipython3",
   "version": "3.12.9"
  }
 },
 "nbformat": 4,
 "nbformat_minor": 2
}
